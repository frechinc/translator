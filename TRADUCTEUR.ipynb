{
 "cells": [
  {
   "cell_type": "code",
   "execution_count": 22,
   "metadata": {},
   "outputs": [],
   "source": [
    "import json\n",
    "import speech_recognition as sr\n",
    "from gtts import gTTS\n",
    "from pygame import mixer\n",
    "from tempfile import TemporaryFile\n",
    "\n",
    "r = sr.Recognizer()\n",
    "#à partir d'un fichier \".wav\"\n",
    "audiotest = sr.AudioFile(\"/Users/camil/TESTPROJETMONS/heureux.wav\")\n",
    "with audiotest as source: \n",
    "    audio = r.record(source)\n",
    "#à partir du microphone\n",
    "with sr.Microphone() as source:\n",
    "        audio = r.listen(source)\n",
    "text = r.recognize_google(audio,language='fr-FR')\n",
    "translator = Translator()\n",
    "translations = translator.translate(text, dest='en')\n",
    "print(translations)\n",
    "texttrad = translations.text\n",
    "print()\n",
    "texttradaudio = gTTS(text=texttrad, lang='en', slow=False)\n",
    "mixer.init()\n",
    "sf2 = TemporaryFile()\n",
    "texttradaudio.write_to_fp(sf2)\n",
    "sf2.seek(0)\n",
    "mixer.music.load(sf2)\n",
    "mixer.music.play()\n"
   ]
  }
 ],
 "metadata": {
  "kernelspec": {
   "display_name": "Python 3",
   "language": "python",
   "name": "python3"
  },
  "language_info": {
   "codemirror_mode": {
    "name": "ipython",
    "version": 3
   },
   "file_extension": ".py",
   "mimetype": "text/x-python",
   "name": "python",
   "nbconvert_exporter": "python",
   "pygments_lexer": "ipython3",
   "version": "3.7.3"
  }
 },
 "nbformat": 4,
 "nbformat_minor": 2
}
